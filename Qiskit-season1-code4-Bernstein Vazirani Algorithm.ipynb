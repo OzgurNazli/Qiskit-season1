{
 "cells": [
  {
   "cell_type": "code",
   "execution_count": 7,
   "id": "137784db",
   "metadata": {},
   "outputs": [],
   "source": [
    "from qiskit import *\n",
    "import matplotlib\n",
    "from qiskit.tools.visualization import plot_histogram\n",
    "import random"
   ]
  },
  {
   "cell_type": "code",
   "execution_count": 8,
   "id": "6d04916d",
   "metadata": {},
   "outputs": [
    {
     "data": {
      "text/plain": [
       "'\\nQuantum computer do this just one try with BERNSTEIN VAZIRANI ALGORITHM\\n'"
      ]
     },
     "execution_count": 8,
     "metadata": {},
     "output_type": "execute_result"
    }
   ],
   "source": [
    "\"\"\"\n",
    "101001 secret -> ask number to find and try it upon the right answer\n",
    "computer does this by and operation via 000001 then 000010 and so on\n",
    "this approach needs 6 tries for 6 digits\n",
    "\"\"\"\n",
    "\"\"\"\n",
    "Quantum computer do this just one try with BERNSTEIN VAZIRANI ALGORITHM\n",
    "\"\"\""
   ]
  },
  {
   "cell_type": "code",
   "execution_count": 9,
   "id": "47653400",
   "metadata": {},
   "outputs": [],
   "source": [
    "secretnumber = '1010011010011010011010011'"
   ]
  },
  {
   "cell_type": "code",
   "execution_count": 2,
   "id": "15fc19ec",
   "metadata": {},
   "outputs": [
    {
     "ename": "NameError",
     "evalue": "name 'QuantumCircuit' is not defined",
     "output_type": "error",
     "traceback": [
      "\u001b[1;31m---------------------------------------------------------------------------\u001b[0m",
      "\u001b[1;31mNameError\u001b[0m                                 Traceback (most recent call last)",
      "Input \u001b[1;32mIn [2]\u001b[0m, in \u001b[0;36m<cell line: 1>\u001b[1;34m()\u001b[0m\n\u001b[1;32m----> 1\u001b[0m circuit \u001b[38;5;241m=\u001b[39m \u001b[43mQuantumCircuit\u001b[49m(\u001b[38;5;241m6\u001b[39m\u001b[38;5;241m+\u001b[39m\u001b[38;5;241m1\u001b[39m, \u001b[38;5;241m6\u001b[39m) \u001b[38;5;66;03m#numer of bits plus 1 qubit and 6 classical bits\u001b[39;00m\n\u001b[0;32m      3\u001b[0m circuit\u001b[38;5;241m.\u001b[39mh([\u001b[38;5;241m0\u001b[39m,\u001b[38;5;241m1\u001b[39m,\u001b[38;5;241m2\u001b[39m,\u001b[38;5;241m3\u001b[39m,\u001b[38;5;241m4\u001b[39m,\u001b[38;5;241m5\u001b[39m]) \u001b[38;5;66;03m# first 6 qubits\u001b[39;00m\n\u001b[0;32m      4\u001b[0m circuit\u001b[38;5;241m.\u001b[39mx(\u001b[38;5;241m6\u001b[39m)\n",
      "\u001b[1;31mNameError\u001b[0m: name 'QuantumCircuit' is not defined"
     ]
    }
   ],
   "source": [
    "circuit = QuantumCircuit(6+1, 6) #numer of bits plus 1 qubit and 6 classical bits\n",
    "\n",
    "circuit.h([0,1,2,3,4,5]) # first 6 qubits\n",
    "circuit.x(6)\n",
    "circuit.h(6)\n",
    "circuit.barrier()\n",
    "\n",
    "circuit.cx(5,6)#first 1 in our secret number\n",
    "circuit.cx(3,6)\n",
    "circuit.cx(0,6)\n",
    "circuit.barrier()\n",
    "\n",
    "circuit.h([0,1,2,3,4,5])\n",
    "circuit.barrier()\n",
    "circuit.measure([0,1,2,3,4,5],[0,1,2,3,4,5])"
   ]
  },
  {
   "cell_type": "code",
   "execution_count": 3,
   "id": "02c4defe",
   "metadata": {},
   "outputs": [
    {
     "ename": "NameError",
     "evalue": "name 'circuit' is not defined",
     "output_type": "error",
     "traceback": [
      "\u001b[1;31m---------------------------------------------------------------------------\u001b[0m",
      "\u001b[1;31mNameError\u001b[0m                                 Traceback (most recent call last)",
      "Input \u001b[1;32mIn [3]\u001b[0m, in \u001b[0;36m<cell line: 1>\u001b[1;34m()\u001b[0m\n\u001b[1;32m----> 1\u001b[0m \u001b[43mcircuit\u001b[49m\u001b[38;5;241m.\u001b[39mdraw(output\u001b[38;5;241m=\u001b[39m\u001b[38;5;124m'\u001b[39m\u001b[38;5;124mmpl\u001b[39m\u001b[38;5;124m'\u001b[39m)\n",
      "\u001b[1;31mNameError\u001b[0m: name 'circuit' is not defined"
     ]
    }
   ],
   "source": [
    "circuit.draw(output='mpl')"
   ]
  },
  {
   "cell_type": "code",
   "execution_count": 19,
   "id": "2c0bc2be",
   "metadata": {},
   "outputs": [
    {
     "name": "stdout",
     "output_type": "stream",
     "text": [
      "{'101001': 1}\n"
     ]
    }
   ],
   "source": [
    "simulator = Aer.get_backend('qasm_simulator')\n",
    "result = execute(circuit, backend = simulator, shots =1).result()\n",
    "counts = result.get_counts()\n",
    "print(counts)"
   ]
  },
  {
   "cell_type": "code",
   "execution_count": 10,
   "id": "c2f2d7a5",
   "metadata": {},
   "outputs": [
    {
     "name": "stdout",
     "output_type": "stream",
     "text": [
      "{'1010011010011010011010011': 1}\n"
     ]
    }
   ],
   "source": [
    "# Advanced\n",
    "circuit = QuantumCircuit(len(secretnumber)+1, len(secretnumber))\n",
    "circuit.h(range(len(secretnumber)))\n",
    "circuit.x(len(secretnumber))\n",
    "circuit.h(len(secretnumber))\n",
    "circuit.barrier()\n",
    "# creating the function f that is a blackbox, secretnumber\n",
    "for ii, yesno in enumerate(reversed(secretnumber)):\n",
    "    if yesno == '1':\n",
    "        circuit.cx(ii,len(secretnumber))\n",
    "\n",
    "circuit.barrier()\n",
    "circuit.h(range(len(secretnumber)))\n",
    "circuit.measure(range(len(secretnumber)),range(len(secretnumber)))\n",
    "simulator = Aer.get_backend('qasm_simulator')\n",
    "result = execute(circuit, backend = simulator, shots =1).result()\n",
    "counts = result.get_counts()\n",
    "print(counts)"
   ]
  },
  {
   "cell_type": "code",
   "execution_count": 24,
   "id": "01291110",
   "metadata": {},
   "outputs": [],
   "source": [
    "# for ii, yesno in enumerate(reversed(secretnumber)):\n",
    "#   print(ii, yes)"
   ]
  },
  {
   "cell_type": "code",
   "execution_count": null,
   "id": "6035ab0c",
   "metadata": {},
   "outputs": [],
   "source": [
    "\"\"\"\n",
    "The magic happens with Hadamard gates (also known as Fourier sampling).  \n",
    "You initialize the input as |000000> and then put all the bits through a Hadamard gate. \n",
    "This is called Fourier sampling or Hadamard Transpose. The output of these H gates is \n",
    "a quantum entangled 6 bit state. This converts the inputs into a superposition state with\n",
    "equal probability of all the possible strings |000000>......... |111111>. \n",
    "\"\"\""
   ]
  }
 ],
 "metadata": {
  "kernelspec": {
   "display_name": "Python 3 (ipykernel)",
   "language": "python",
   "name": "python3"
  },
  "language_info": {
   "codemirror_mode": {
    "name": "ipython",
    "version": 3
   },
   "file_extension": ".py",
   "mimetype": "text/x-python",
   "name": "python",
   "nbconvert_exporter": "python",
   "pygments_lexer": "ipython3",
   "version": "3.9.12"
  }
 },
 "nbformat": 4,
 "nbformat_minor": 5
}
